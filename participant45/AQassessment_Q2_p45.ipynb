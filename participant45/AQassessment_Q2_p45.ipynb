{
 "cells": [
  {
   "cell_type": "markdown",
   "metadata": {},
   "source": [
    "# SOCIALIST MAYOR (10 mins)\n",
    "# Instructions / Notes: Read these carefully\n",
    "This **Python Jupyter Notebook** notebook is split into the following sections:\n",
    "\n",
    "1. **Initial section** with pre-filled cells, that you should run just to load some Python modules (packages), the dataset required for your task and its variables in memory.\n",
    "2. **Middle section** with **description of a concrete task** associated with the dataset. \n",
    "3. **Final section (with one or more empty cells)** where you can perform analyses with the loaded dataset (e.g., write a few lines of code if needed), answer the question posed, and describe your reasoning in words.\n",
    "\n",
    "**Read and execute each cell in order, without skipping forward**. To execute any cell, press **Shift+Enter** on your keyboard. It might take a couple of seconds to receive an output.\n",
    "\n",
    "Have fun!"
   ]
  },
  {
   "cell_type": "code",
   "execution_count": null,
   "metadata": {},
   "outputs": [],
   "source": [
    "# Run the following to import necessary packages and import dataset. \n",
    "import pandas as pd\n",
    "import numpy as np\n",
    "import scipy as sp\n",
    "from IPython.core.interactiveshell import InteractiveShell\n",
    "InteractiveShell.ast_node_interactivity = \"all\"\n",
    "import matplotlib\n",
    "import matplotlib.pyplot as plt\n",
    "%matplotlib inline\n",
    "matplotlib.style.use('ggplot')\n",
    "\n",
    "dA = \"AQ_NT assessment_scenarioA.csv\"\n",
    "dB = \"AQ_NT assessment_scenarioB.csv\"\n",
    "dC = \"AQ_NT assessment_scenarioC.csv\"\n",
    "\n",
    "#DATASET A\n",
    "dfA = pd.read_csv(dA)\n",
    "\n",
    "#DATASET B\n",
    "dfB = pd.read_csv(dB)\n",
    "\n",
    "#DATASET C\n",
    "dfC = pd.read_csv(dC)\n",
    "\n",
    "#Print first five lines of dataset A as a check to see if the datasets are loaded properly.\n",
    "dfA.head(n=5)"
   ]
  },
  {
   "cell_type": "markdown",
   "metadata": {},
   "source": [
    "# DATASET DESCRIPTION:\n",
    "Each of the 3 dataframes loaded above represents **potential scenarios of wealth distribution (money owned/possessed by people) in the city (in 100's)** for a sample of 2484 randomly selected individuals. Run the cells to obtain the box-plot for these datasets below."
   ]
  },
  {
   "cell_type": "code",
   "execution_count": null,
   "metadata": {},
   "outputs": [],
   "source": [
    "from IPython.core.interactiveshell import InteractiveShell\n",
    "InteractiveShell.ast_node_interactivity = \"all\"\n",
    "#You will receive the visualization of box-plot for Dataset A as an output.\n",
    "#Boxplot is a method for graphically depicting groups of numerical data through their quartiles.\n",
    "dfA.boxplot()\n",
    "plt.show()"
   ]
  },
  {
   "cell_type": "code",
   "execution_count": null,
   "metadata": {},
   "outputs": [],
   "source": [
    "from IPython.core.interactiveshell import InteractiveShell\n",
    "InteractiveShell.ast_node_interactivity = \"all\"\n",
    "#You will receive the visualization of box-plot for Dataset B as an output.\n",
    "#Boxplot is a method for graphically depicting groups of numerical data through their quartiles.\n",
    "dfB.boxplot()\n",
    "plt.show()"
   ]
  },
  {
   "cell_type": "code",
   "execution_count": null,
   "metadata": {},
   "outputs": [],
   "source": [
    "from IPython.core.interactiveshell import InteractiveShell\n",
    "InteractiveShell.ast_node_interactivity = \"all\"\n",
    "#You will receive the visualization of box-plot for Dataset C as an output.\n",
    "#Boxplot is a method for graphically depicting groups of numerical data through their quartiles.\n",
    "dfC.boxplot()\n",
    "plt.show()"
   ]
  },
  {
   "cell_type": "markdown",
   "metadata": {},
   "source": [
    "# TASK: \n",
    "A new mayor has recently been elected by residents of the city. This mayor is a firm believer in economic theory of social organization. In simple words, this theory states that the means of making, moving, and trading wealth should be **owned or controlled by the community as a whole**. \n",
    "\n",
    "**Rank order the datasets** reflecting potential scenarios of wealth distribution in the city (in 100's), from **the most representative to the least representative** of the mayor's **socialist** ideology.\n",
    "\n",
    "\n",
    "1. Please mark your answer (e.g., BAC, CBA etc)\n",
    "2. Please provide a brief **reasoning** behind your answer (an explanation of **why** you took certain steps or performed certain calculations to get to the solution)\n",
    "3. Please mark your **confidence** in the answer (on a scale of 1 to 5)\n"
   ]
  },
  {
   "cell_type": "code",
   "execution_count": null,
   "metadata": {},
   "outputs": [],
   "source": [
    "#NOTE: Round all your statistics to 2 decimal places before reasoning with them!! \n",
    "\n",
    "#REPORT YOUR ANSWER (DATASET ORDERING)\n",
    "scenario_ordering = 'None'\n",
    "#choose among: \"ABC\", \"ACB\", \"BAC\", \"BCA\", \"CAB\", \"CBA\"\n",
    "print(scenario_ordering)\n",
    "\n",
    "#REPORT YOUR REASONING\n",
    "scenario_ordering_reasoning  = 'None'\n",
    "print(scenario_ordering_reasoning)\n",
    "\n",
    "#REPORT CONFIDENCE IN YOUR ANSWER\n",
    "confidence_measure = 'None' \n",
    "#Choose among: 1 (low confidence), 2, 3 (medium confidence), 4, 5 (high confidence)\n",
    "print(confidence_measure)\n"
   ]
  },
  {
   "cell_type": "code",
   "execution_count": null,
   "metadata": {},
   "outputs": [],
   "source": [
    "#ONLY use this space below to write your code (if needed) for answering the task. DO NOT ERASE this code segment from the workbook.\n",
    "\n",
    "\n",
    "\n",
    "\n",
    "\n",
    "\n",
    "\n",
    "\n",
    "\n",
    "\n",
    "\n",
    "\n",
    "#Your intuitive ideas are valuable!!If you need syntax-related help in implementing your ideas, you can access the following documentation files (use the \"Search\" tab for queries) and/or summarized syntax sheets.\n",
    "\n",
    "\n",
    "#a) Pandas library\n",
    "#Documentation file: https://pandas.pydata.org/pandas-docs/stable/\n",
    "#Syntax sheet: https://datacamp-community-prod.s3.amazonaws.com/fbc502d0-46b2-4e1b-b6b0-5402ff273251\n",
    "\n",
    "#b) Numpy library\n",
    "#Documentation file: https://docs.scipy.org/doc/numpy/user/index.html\n",
    "#Syntax sheet: https://datacamp-community-prod.s3.amazonaws.com/e9f83f72-a81b-42c7-af44-4e35b48b20b7\n",
    "\n",
    "#c) Matplotlib library\n",
    "#Documentation file: https://matplotlib.org/contents.html\n",
    "#Syntax sheet: https://datacamp-community-prod.s3.amazonaws.com/28b8210c-60cc-4f13-b0b4-5b4f2ad4790b\n",
    "\n",
    "#d) Scipy library\n",
    "#Documentation file: https://docs.scipy.org/doc/scipy/reference/\n",
    "#Syntax sheet: https://datacamp-community-prod.s3.amazonaws.com/5710caa7-94d4-4248-be94-d23dea9e668f"
   ]
  }
 ],
 "metadata": {},
 "nbformat": 4,
 "nbformat_minor": 2
}
