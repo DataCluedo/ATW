{
 "cells": [
  {
   "cell_type": "markdown",
   "metadata": {},
   "source": [
    "# AIR QUALITY (10 mins)\n",
    "# Instructions / Notes: Read these carefully\n",
    "This **Python Jupyter Notebook** notebook is split into the following sections:\n",
    "\n",
    "1. **Initial section** with pre-filled cells, that you should run just to load some Python modules (packages), the dataset required for your task and its variables in memory.\n",
    "2. **Middle section** with **description of a concrete task** associated with the dataset. \n",
    "3. **Final section (with one or more empty cells)** where you can perform analyses with the loaded dataset (e.g., write a few lines of code if needed), answer the question posed, and describe your reasoning in words.\n",
    "\n",
    "**Read and execute each cell in order, without skipping forward**. To execute any cell, press **Shift+Enter** on your keyboard. It might take a couple of seconds to receive an output.\n",
    "\n",
    "Have fun!"
   ]
  },
  {
   "cell_type": "code",
   "execution_count": null,
   "metadata": {},
   "outputs": [],
   "source": [
    "# Run the following to import necessary packages and import dataset.\n",
    "import pandas as pd\n",
    "import numpy as np\n",
    "import scipy as sp\n",
    "from IPython.core.interactiveshell import InteractiveShell\n",
    "InteractiveShell.ast_node_interactivity = \"all\"\n",
    "import matplotlib\n",
    "import matplotlib.pyplot as plt\n",
    "%matplotlib inline\n",
    "matplotlib.style.use('ggplot')\n",
    "from scipy.stats import shapiro\n",
    "from scipy.stats import probplot\n",
    "from scipy.stats import skew\n",
    "\n",
    "dA = \"AQ_FT assessment_CitiesAirQuality.csv\"\n",
    "\n",
    "dfA = pd.read_csv(dA)\n",
    "\n",
    "#Print first five lines of dataset A as a check to see if the dataset is loaded properly.\n",
    "dfA.head(n=5)"
   ]
  },
  {
   "cell_type": "markdown",
   "metadata": {},
   "source": [
    "# DATASET DESCRIPTION:\n",
    "The dataframe loaded above represents **air quality scores** (ranging from 0 to 5, higher scores indicate better air quality) for different cities across the globe. Run the cell to obtain the Shapiro Wilk's test statistic and associated p-value, for the dataset below. \n",
    "\n",
    "In statistics, a hypothesis is an educated guess about something in the world around us. Hypothesis testing is a way of testing the validity of results of an experiment by figuring out the odds that the results have happened by chance. \n",
    "\n",
    "The **Shapiro-Wilk test** evaluates a data sample and quantifies how likely it is that the data was drawn from a Normal distribution. The tests assume that that the sample was drawn from a Normal distribution. Technically this is called the null hypothesis, or H0. A threshold level is chosen called alpha, typically 5% (or 0.05), that is used to interpret the p-value and either reject H0 or fail to reject H0. The p-value is the probability that a given result (or a more significant result) would occur under the null hypothesis. \n",
    "\n",
    "If the p-value is less than the chosen significance threshold, then we say the null hypothesis is **rejected** at the chosen level of significance. If the p-value is not less than the chosen significance threshold, then the evidence is insufficient to support a conclusion. The \"fail to reject\" terminology highlights the fact that the null hypothesis is assumed to be true from the start of the test; if there is a lack of evidence against it, it simply continues to be assumed true."
   ]
  },
  {
   "cell_type": "code",
   "execution_count": null,
   "metadata": {},
   "outputs": [],
   "source": [
    "from IPython.core.interactiveshell import InteractiveShell\n",
    "InteractiveShell.ast_node_interactivity = \"all\"\n",
    "#You will receive the p-value from the Shapiro Wilks' test as output.\n",
    "stat, p = shapiro(dfA[\"AirQualityIndex\"])\n",
    "print('p-value=%.2f' % (p))"
   ]
  },
  {
   "cell_type": "markdown",
   "metadata": {},
   "source": [
    "# TASK: \n",
    "A group of environmental scientists were interested in investigating the levels of global air quality. They sampled a set of 810 cities across the globe, and set up a team of local people to assist them in collecting data about air quality index using specialized hardware probes over the course of a year. These hardware probes returned a standardized score ranging from 0 to 5, once the air quality recording was complete (higher scores indicate better air quality). \n",
    "\n",
    "Since prior data from a lot of other environmental phenomena suggests that such data are usually **approximately normally distributed**, the scientists expects the arrangement of the air quality index scores across the cities to be similar. In simple words, (i) they expect most cities to have an average air quality, (ii) the number of cities that have higher and lower than average air quality to be fairly equal, and (iii) a very small (and still roughly equivalent) portion of the cities to have either extremely low or extremely high air quality. In order to test this assumption, they calculated some data statistics you ran above. \n",
    "\n",
    "\n",
    "**Does the data for air quality index conform to (agrees with) scientist's expectations?**\n",
    "\n",
    "1. Please mark your **answer** (yes, no)\n",
    "2. Please provide a brief **reasoning** behind your answer (an explanation of **why** you took certain steps or performed certain calculations to get to the solution)\n",
    "3. Please mark your **confidence** in the answer (on a scale of 1 to 5)"
   ]
  },
  {
   "cell_type": "code",
   "execution_count": null,
   "metadata": {},
   "outputs": [],
   "source": [
    "#Round all your statistics to 2 decimal places before reasoning with them!!\n",
    "\n",
    "#REPORT YOUR ANSWER\n",
    "airquality_normality = 'None'\n",
    "#choose between: yes, no\n",
    "print(airquality_normality)\n",
    "\n",
    "#REPORT YOUR REASONING\n",
    "airquality_normality_reasoning  = 'None'  \n",
    "print(airquality_normality_reasoning)\n",
    "\n",
    "#REPORT CONFIDENCE IN YOUR ANSWER\n",
    "confidence_measure = 'None' \n",
    "#Choose among: 1 (low confidence), 2, 3 (medium confidence), 4, 5 (high confidence)\n",
    "print(confidence_measure)\n"
   ]
  },
  {
   "cell_type": "code",
   "execution_count": null,
   "metadata": {},
   "outputs": [],
   "source": [
    "#ONLY use this space below to write your code (if needed) for answering the task. DO NOT ERASE this code segment from the workbook.\n",
    "\n",
    "\n",
    "\n",
    "\n",
    "\n",
    "\n",
    "\n",
    "\n",
    "\n",
    "\n",
    "\n",
    "\n",
    "#Your intuitive ideas are valuable!!If you need syntax-related help in implementing your ideas, you can access the following documentation files (use the \"Search\" tab for queries) and/or summarized syntax sheets.\n",
    "\n",
    "#a) Pandas library\n",
    "#Documentation file: https://pandas.pydata.org/pandas-docs/stable/\n",
    "#Syntax sheet: https://datacamp-community-prod.s3.amazonaws.com/fbc502d0-46b2-4e1b-b6b0-5402ff273251\n",
    "\n",
    "#b) Numpy library\n",
    "#Documentation file: https://docs.scipy.org/doc/numpy/user/index.html\n",
    "#Syntax sheet: https://datacamp-community-prod.s3.amazonaws.com/e9f83f72-a81b-42c7-af44-4e35b48b20b7\n",
    "\n",
    "#c) Matplotlib library\n",
    "#Documentation file: https://matplotlib.org/contents.html\n",
    "#Syntax sheet: https://datacamp-community-prod.s3.amazonaws.com/28b8210c-60cc-4f13-b0b4-5b4f2ad4790b\n",
    "\n",
    "#d) Scipy library\n",
    "#Documentation file: https://docs.scipy.org/doc/scipy/reference/\n",
    "#Syntax sheet: https://datacamp-community-prod.s3.amazonaws.com/5710caa7-94d4-4248-be94-d23dea9e668f"
   ]
  }
 ],
 "metadata": {},
 "nbformat": 4,
 "nbformat_minor": 2
}
